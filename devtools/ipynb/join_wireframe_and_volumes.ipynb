{
 "cells": [
  {
   "cell_type": "code",
   "execution_count": null,
   "id": "fc1808fd",
   "metadata": {},
   "outputs": [],
   "source": [
    "import csv\n",
    "import pandas as pd\n",
    "import numpy as np"
   ]
  },
  {
   "cell_type": "code",
   "execution_count": null,
   "id": "5048337b",
   "metadata": {},
   "outputs": [],
   "source": [
    "root = r'C:/Users/ben_k/work_stuff/balanced-volumes-oct-2021/i90_wireframe_and_volumes/'"
   ]
  },
  {
   "cell_type": "code",
   "execution_count": null,
   "id": "2af65790",
   "metadata": {},
   "outputs": [],
   "source": [
    "eb_wireframe_fn = root + 'i90_eb_wireframe.csv'\n",
    "eb_wireframe_df = pd.read_csv(eb_wireframe_fn)"
   ]
  },
  {
   "cell_type": "code",
   "execution_count": null,
   "id": "67ee6c99",
   "metadata": {},
   "outputs": [],
   "source": [
    "eb_volumes_fn = root + 'i90_eb_volumes.csv'\n",
    "eb_volumes_df = pd.read_csv(eb_volumes_fn)"
   ]
  },
  {
   "cell_type": "code",
   "execution_count": null,
   "id": "b20b3bee",
   "metadata": {},
   "outputs": [],
   "source": [
    "eb_joined_df = eb_wireframe_df.merge(eb_volumes_df, how='left', on='data_id', validate='one_to_one')"
   ]
  },
  {
   "cell_type": "code",
   "execution_count": null,
   "id": "a46aa8b2",
   "metadata": {},
   "outputs": [],
   "source": [
    "eb_joined_df = eb_joined_df.drop(['n_delta_x'], axis=1)"
   ]
  },
  {
   "cell_type": "code",
   "execution_count": null,
   "id": "ca1dc5c1",
   "metadata": {},
   "outputs": [],
   "source": [
    "eb_joined_df"
   ]
  },
  {
   "cell_type": "code",
   "execution_count": null,
   "id": "1d60beb1",
   "metadata": {},
   "outputs": [],
   "source": [
    "# Workaround pandas bug converting (some) int fields to floats after merge:\n",
    "eb_joined_df['awdt_2019'] = eb_joined_df['awdt_2019'].fillna(0)\n",
    "eb_joined_df['awdt_2019'] = eb_joined_df['awdt_2019'].apply(np.int64)\n",
    "eb_joined_df['awdt_2010'] = eb_joined_df['awdt_2010'].fillna(0)\n",
    "eb_joined_df['awdt_2010'] = eb_joined_df['awdt_2010'].apply(np.int64)"
   ]
  },
  {
   "cell_type": "code",
   "execution_count": null,
   "id": "ffca0bd6",
   "metadata": {},
   "outputs": [],
   "source": [
    "eb_joined_df"
   ]
  },
  {
   "cell_type": "code",
   "execution_count": null,
   "id": "3e002851",
   "metadata": {},
   "outputs": [],
   "source": [
    "eb_out_fn = root + 'i90_eb_wireframe_and_volumes.csv'\n",
    "eb_joined_df.to_csv(eb_out_fn, index=False)"
   ]
  },
  {
   "cell_type": "code",
   "execution_count": null,
   "id": "612cdb93",
   "metadata": {},
   "outputs": [],
   "source": []
  },
  {
   "cell_type": "code",
   "execution_count": null,
   "id": "c35c648b",
   "metadata": {},
   "outputs": [],
   "source": [
    "wb_wireframe_fn = root + 'i90_wb_wireframe.csv'\n",
    "wb_wireframe_df = pd.read_csv(wb_wireframe_fn)"
   ]
  },
  {
   "cell_type": "code",
   "execution_count": null,
   "id": "749a072f",
   "metadata": {},
   "outputs": [],
   "source": [
    "wb_volumes_fn = root + 'i90_wb_volumes.csv'\n",
    "wb_volumes_df = pd.read_csv(wb_volumes_fn)"
   ]
  },
  {
   "cell_type": "code",
   "execution_count": null,
   "id": "74f0f2e1",
   "metadata": {},
   "outputs": [],
   "source": [
    "wb_joined_df = wb_wireframe_df.merge(wb_volumes_df, how='left', on='data_id', validate='one_to_one')"
   ]
  },
  {
   "cell_type": "code",
   "execution_count": null,
   "id": "c7a39a86",
   "metadata": {},
   "outputs": [],
   "source": [
    "wb_joined_df = wb_joined_df.drop(['n_delta_x'], axis=1)"
   ]
  },
  {
   "cell_type": "code",
   "execution_count": null,
   "id": "dd8c982f",
   "metadata": {},
   "outputs": [],
   "source": [
    "wb_joined_df"
   ]
  },
  {
   "cell_type": "code",
   "execution_count": null,
   "id": "e35bde3b",
   "metadata": {},
   "outputs": [],
   "source": [
    "# Workaround pandas bug converting (some) int fields to floats after merge:\n",
    "wb_joined_df['awdt_2019'] = wb_joined_df['awdt_2019'].fillna(0)\n",
    "wb_joined_df['awdt_2019'] = wb_joined_df['awdt_2019'].apply(np.int64)\n",
    "wb_joined_df['awdt_2010'] = wb_joined_df['awdt_2010'].fillna(0)\n",
    "wb_joined_df['awdt_2010'] = wb_joined_df['awdt_2010'].apply(np.int64)"
   ]
  },
  {
   "cell_type": "code",
   "execution_count": null,
   "id": "97747134",
   "metadata": {},
   "outputs": [],
   "source": [
    "wb_joined_df"
   ]
  },
  {
   "cell_type": "code",
   "execution_count": null,
   "id": "75ba281c",
   "metadata": {},
   "outputs": [],
   "source": [
    "wb_out_fn = root + 'i90_wb_wireframe_and_volumes.csv'\n",
    "wb_joined_df.to_csv(wb_out_fn, index=False)"
   ]
  },
  {
   "cell_type": "code",
   "execution_count": null,
   "id": "af1b21b3",
   "metadata": {},
   "outputs": [],
   "source": []
  }
 ],
 "metadata": {
  "kernelspec": {
   "display_name": "Python 3",
   "language": "python",
   "name": "python3"
  },
  "language_info": {
   "codemirror_mode": {
    "name": "ipython",
    "version": 3
   },
   "file_extension": ".py",
   "mimetype": "text/x-python",
   "name": "python",
   "nbconvert_exporter": "python",
   "pygments_lexer": "ipython3",
   "version": "3.7.11"
  }
 },
 "nbformat": 4,
 "nbformat_minor": 5
}
